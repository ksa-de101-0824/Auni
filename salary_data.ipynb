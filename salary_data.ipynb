{
 "cells": [
  {
   "cell_type": "code",
   "execution_count": 1,
   "metadata": {},
   "outputs": [
    {
     "name": "stdout",
     "output_type": "stream",
     "text": [
      "{'company_name': 'Genesys', 'company_score': 3.6, 'position': 'Software Engineer', 'location': 'Mount Laurel, NJ', 'pay': '$95K', 'Malaysia Pay': 419900, 'Income Class': 'high'}\n"
     ]
    }
   ],
   "source": [
    "#example data dictionary in the url\n",
    "#\"company_name\": \"Workiva\",\n",
    "#\"company_score\": 4.3,\n",
    "# \"position\": \"Software Support Engineer\",\n",
    "#\"location\": \"Remote\",\n",
    "#\"pay\": \"$61K\"\n",
    "    \n",
    "import requests\n",
    "import json\n",
    "\n",
    "def get_salary_data():\n",
    "    url = 'https://raw.githubusercontent.com/nextynewb/datasets/main/salaries.json'\n",
    "    response = requests.get(url)\n",
    "    response.raise_for_status()\n",
    "    salaries_data = response.json()\n",
    "    return salaries_data['data']\n",
    "\n",
    "\n",
    "salaries = get_salary_data()\n",
    "usd_rate = 4.42\n",
    "\n",
    "# Loop through the List, and convert the 'pay' to an integer. (e.g 100000)\n",
    "# pay_usd: pay in integer form = 61000\n",
    "for salary in salaries:\n",
    "    pay_usd = float(salary['pay'].replace('K','').replace('$','')) * 1000\n",
    "\n",
    "    pay_myr = int(pay_usd * usd_rate)\n",
    "    salary['Malaysia Pay'] = pay_myr # Syntax to add new key in Dictionary\n",
    "\n",
    "if pay_myr < 100000:\n",
    "    income_class = \"low\"\n",
    "elif pay_myr < 200000:\n",
    "    income_class = \"medium\"\n",
    "else:\n",
    "    income_class = \"high\"\n",
    "\n",
    "salary['Income Class'] = income_class # Syntax to add new key in Dictionary\n",
    "print(salary)\n"
   ]
  },
  {
   "cell_type": "code",
   "execution_count": null,
   "metadata": {},
   "outputs": [],
   "source": []
  }
 ],
 "metadata": {
  "kernelspec": {
   "display_name": "Python 3",
   "language": "python",
   "name": "python3"
  },
  "language_info": {
   "codemirror_mode": {
    "name": "ipython",
    "version": 3
   },
   "file_extension": ".py",
   "mimetype": "text/x-python",
   "name": "python",
   "nbconvert_exporter": "python",
   "pygments_lexer": "ipython3",
   "version": "3.10.13"
  }
 },
 "nbformat": 4,
 "nbformat_minor": 2
}
