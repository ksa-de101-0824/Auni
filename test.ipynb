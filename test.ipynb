{
 "cells": [
  {
   "cell_type": "code",
   "execution_count": 1,
   "metadata": {},
   "outputs": [
    {
     "name": "stdout",
     "output_type": "stream",
     "text": [
      "hello\n"
     ]
    }
   ],
   "source": [
    "print(\"hello\")"
   ]
  },
  {
   "cell_type": "code",
   "execution_count": 1,
   "metadata": {},
   "outputs": [
    {
     "name": "stdout",
     "output_type": "stream",
     "text": [
      "world\n"
     ]
    }
   ],
   "source": [
    "print(\"world\")\n"
   ]
  },
  {
   "cell_type": "code",
   "execution_count": 1,
   "metadata": {},
   "outputs": [
    {
     "name": "stdout",
     "output_type": "stream",
     "text": [
      "I update something\n"
     ]
    }
   ],
   "source": [
    "print(\"I update something\")"
   ]
  },
  {
   "cell_type": "code",
   "execution_count": 1,
   "metadata": {},
   "outputs": [
    {
     "name": "stdout",
     "output_type": "stream",
     "text": [
      "{'Rahman': {'CGPA': 3.5, 'Course': ['IT', 'Math', 'Physics'], 'Height': 1.75}, 'Azwan': {'CGPA': 3.7, 'Course': ['IT', 'Math', 'Physics'], 'Height': 1.75}, 'Kamarul': {'CGPA': 3.9, 'Course': ['IT', 'Math', 'Physics'], 'Height': 1.75}}\n"
     ]
    }
   ],
   "source": [
    "student_cgpa = {\n",
    "    \"Rahman\": {\n",
    "        \"CGPA\": 3.5,\n",
    "        \"Course\": [\"IT\", \"Math\", \"Physics\"]\n",
    "    },\n",
    "    \"Azwan\": {\n",
    "        \"CGPA\": 3.7,\n",
    "        \"Course\": [\"IT\", \"Math\", \"Physics\"]\n",
    "    },\n",
    "    \"Kamarul\": {\n",
    "        \"CGPA\": 3.9,\n",
    "        \"Course\": [\"IT\", \"Math\", \"Physics\"]\n",
    "    }\n",
    "}\n",
    "for key, value in student_cgpa.items():\n",
    "    value['Height'] = 1.75\n",
    "\n",
    "\n",
    "print(student_cgpa)\n",
    "\n",
    "# for key in student_cgpa:\n",
    "#     print(student_cgpa[key])\n"
   ]
  },
  {
   "cell_type": "code",
   "execution_count": 4,
   "metadata": {},
   "outputs": [],
   "source": [
    "#loop\n",
    "num=1\n",
    "while True:\n",
    "    if num > 10:\n",
    "        break"
   ]
  },
  {
   "cell_type": "code",
   "execution_count": 12,
   "metadata": {},
   "outputs": [
    {
     "name": "stdout",
     "output_type": "stream",
     "text": [
      "{'company_name': 'Genesys', 'company_score': 3.6, 'position': 'Software Engineer', 'location': 'Mount Laurel, NJ', 'pay': '$95K', 'Malaysia Pay': 419900, 'Income Class': 'high'}\n"
     ]
    }
   ],
   "source": []
  },
  {
   "cell_type": "code",
   "execution_count": null,
   "metadata": {},
   "outputs": [],
   "source": []
  }
 ],
 "metadata": {
  "kernelspec": {
   "display_name": "Python 3",
   "language": "python",
   "name": "python3"
  },
  "language_info": {
   "codemirror_mode": {
    "name": "ipython",
    "version": 3
   },
   "file_extension": ".py",
   "mimetype": "text/x-python",
   "name": "python",
   "nbconvert_exporter": "python",
   "pygments_lexer": "ipython3",
   "version": "3.10.13"
  }
 },
 "nbformat": 4,
 "nbformat_minor": 2
}
