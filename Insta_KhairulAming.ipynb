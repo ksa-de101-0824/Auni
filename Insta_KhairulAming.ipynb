{
 "cells": [
  {
   "cell_type": "code",
   "execution_count": 1,
   "metadata": {},
   "outputs": [
    {
     "name": "stdout",
     "output_type": "stream",
     "text": [
      "{'postUrl': 'https://www.instagram.com/p/L87rB/', 'description': 'There is no description', 'likeCount': 1226, 'commentCount': 516, 'postId': 200522433, 'pubDate': 'TIME:19:22:34 DATE:02-09-2011', 'TimeDay': 'after office hour'}\n"
     ]
    }
   ],
   "source": [
    "import requests\n",
    "from datetime import datetime\n",
    "\n",
    "# Get the Instagram posts from the given URL\n",
    "def get_instagram_posts():\n",
    "    url = \"https://raw.githubusercontent.com/nextynewb/datasets/main/ka.json\"\n",
    "    response = requests.get(url)\n",
    "    response.raise_for_status()\n",
    "    instagram_data = response.json()\n",
    "    return instagram_data\n",
    "\n",
    "posts = get_instagram_posts()\n",
    "\n",
    "# Convert string \"TIME:06:15:55 DATE:08-04-2024\" to Date format\n",
    "for post in posts:\n",
    "    date_of_posting = post['pubDate']\n",
    "    date_new_format = datetime.strptime (date_of_posting,\"TIME:%H:%M:%S DATE:%d-%m-%Y\")\n",
    "\n",
    "# Extract Hour, in order to do classification\n",
    "hour = date_new_format.hour\n",
    "\n",
    "if hour >= 6 and hour < 12:\n",
    "    time_of_day = \"morning\"\n",
    "elif hour >= 12 and hour < 14:\n",
    "    time_of_day = \"lunch hour\"\n",
    "elif hour >= 14 and hour < 18:\n",
    "    time_of_day = \"after lunch hour\"\n",
    "elif hour >= 18 and hour < 20:\n",
    "    time_of_day = \"after office hour\"\n",
    "elif hour >= 20 and hour < 22:\n",
    "    time_of_day = \"night\"\n",
    "else:\n",
    "    time_of_day = \"midnight\"\n",
    "\n",
    "post['TimeDay'] = time_of_day\n",
    "print(post)"
   ]
  },
  {
   "cell_type": "code",
   "execution_count": null,
   "metadata": {},
   "outputs": [],
   "source": []
  }
 ],
 "metadata": {
  "kernelspec": {
   "display_name": "Python 3",
   "language": "python",
   "name": "python3"
  },
  "language_info": {
   "codemirror_mode": {
    "name": "ipython",
    "version": 3
   },
   "file_extension": ".py",
   "mimetype": "text/x-python",
   "name": "python",
   "nbconvert_exporter": "python",
   "pygments_lexer": "ipython3",
   "version": "3.10.13"
  }
 },
 "nbformat": 4,
 "nbformat_minor": 2
}
