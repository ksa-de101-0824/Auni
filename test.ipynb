{
 "cells": [
  {
   "cell_type": "code",
   "execution_count": 1,
   "metadata": {},
   "outputs": [
    {
     "name": "stdout",
     "output_type": "stream",
     "text": [
      "hello\n"
     ]
    }
   ],
   "source": [
    "print(\"hello\")"
   ]
  },
  {
   "cell_type": "code",
   "execution_count": 1,
   "metadata": {},
   "outputs": [
    {
     "name": "stdout",
     "output_type": "stream",
     "text": [
      "world\n"
     ]
    }
   ],
   "source": [
    "print(\"world\")\n"
   ]
  },
  {
   "cell_type": "code",
   "execution_count": 1,
   "metadata": {},
   "outputs": [
    {
     "name": "stdout",
     "output_type": "stream",
     "text": [
      "I update something\n"
     ]
    }
   ],
   "source": [
    "print(\"I update something\")"
   ]
  },
  {
   "cell_type": "code",
   "execution_count": 1,
   "metadata": {},
   "outputs": [
    {
     "name": "stdout",
     "output_type": "stream",
     "text": [
      "{'Rahman': {'CGPA': 3.5, 'Course': ['IT', 'Math', 'Physics'], 'Height': 1.75}, 'Azwan': {'CGPA': 3.7, 'Course': ['IT', 'Math', 'Physics'], 'Height': 1.75}, 'Kamarul': {'CGPA': 3.9, 'Course': ['IT', 'Math', 'Physics'], 'Height': 1.75}}\n"
     ]
    }
   ],
   "source": [
    "student_cgpa = {\n",
    "    \"Rahman\": {\n",
    "        \"CGPA\": 3.5,\n",
    "        \"Course\": [\"IT\", \"Math\", \"Physics\"]\n",
    "    },\n",
    "    \"Azwan\": {\n",
    "        \"CGPA\": 3.7,\n",
    "        \"Course\": [\"IT\", \"Math\", \"Physics\"]\n",
    "    },\n",
    "    \"Kamarul\": {\n",
    "        \"CGPA\": 3.9,\n",
    "        \"Course\": [\"IT\", \"Math\", \"Physics\"]\n",
    "    }\n",
    "}\n",
    "for key, value in student_cgpa.items():\n",
    "    value['Height'] = 1.75   #Contoh berat everyone sama 1.75kg\n",
    "\n",
    "\n",
    "print(student_cgpa)\n",
    "\n",
    "# for key in student_cgpa:\n",
    "#     print(student_cgpa[key])\n"
   ]
  },
  {
   "cell_type": "code",
   "execution_count": 22,
   "metadata": {},
   "outputs": [
    {
     "name": "stdout",
     "output_type": "stream",
     "text": [
      "{'name': 'Mohan Raj', 'age': 20, 'courses': {'Biology': {'grade': 'B', 'credits': 4}, 'Physics': {'grade': 'A-', 'credits': 4}, 'Mathematics': {'grade': 'A', 'credits': 3}}, 'extracurricular_activities': ['Chess Club', 'Basketball'], 'Total Credit': 11}\n"
     ]
    }
   ],
   "source": [
    "students = [\n",
    "    {\n",
    "        \"name\": \"Ahmad Faizal\",\n",
    "        \"age\": 21,\n",
    "        \"courses\": {\n",
    "            \"Mathematics\": {\"grade\": \"A\", \"credits\": 3},\n",
    "            \"Physics\": {\"grade\": \"B\", \"credits\": 4},\n",
    "            \"History\": {\"grade\": \"A-\", \"credits\": 2}\n",
    "        },\n",
    "        \"extracurricular_activities\": [\"Debate Club\", \"Soccer\"]\n",
    "    },\n",
    "    {\n",
    "        \"name\": \"Nur Aisyah\",\n",
    "        \"age\": 22,\n",
    "        \"courses\": {\n",
    "            \"Mathematics\": {\"grade\": \"B+\", \"credits\": 3},\n",
    "            \"Chemistry\": {\"grade\": \"A\", \"credits\": 4},\n",
    "            \"Literature\": {\"grade\": \"A-\", \"credits\": 2}\n",
    "        },\n",
    "        \"extracurricular_activities\": [\"Drama Club\", \"Volunteering\"]\n",
    "    },\n",
    "    {\n",
    "        \"name\": \"Mohan Raj\",\n",
    "        \"age\": 20,\n",
    "        \"courses\": {\n",
    "            \"Biology\": {\"grade\": \"B\", \"credits\": 4},\n",
    "            \"Physics\": {\"grade\": \"A-\", \"credits\": 4},\n",
    "            \"Mathematics\": {\"grade\": \"A\", \"credits\": 3}\n",
    "        },\n",
    "        \"extracurricular_activities\": [\"Chess Club\", \"Basketball\"]\n",
    "    }\n",
    "]\n",
    "\n",
    "# for student in students:\n",
    "   # print(student['name'])\n",
    "\n",
    "#def AddCredit(student=students, name):\n",
    "for student in students:\n",
    "    Total_Credit = 0\n",
    "    for key,value in student[\"courses\"].items():\n",
    "        Total_Credit += value['credits']\n",
    "\n",
    "student['Total Credit'] = Total_Credit\n",
    "print(student)\n"
   ]
  },
  {
   "cell_type": "code",
   "execution_count": null,
   "metadata": {},
   "outputs": [],
   "source": []
  }
 ],
 "metadata": {
  "kernelspec": {
   "display_name": "Python 3",
   "language": "python",
   "name": "python3"
  },
  "language_info": {
   "codemirror_mode": {
    "name": "ipython",
    "version": 3
   },
   "file_extension": ".py",
   "mimetype": "text/x-python",
   "name": "python",
   "nbconvert_exporter": "python",
   "pygments_lexer": "ipython3",
   "version": "3.10.13"
  }
 },
 "nbformat": 4,
 "nbformat_minor": 2
}
