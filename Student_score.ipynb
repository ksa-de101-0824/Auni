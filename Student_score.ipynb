{
 "cells": [
  {
   "cell_type": "code",
   "execution_count": 3,
   "metadata": {},
   "outputs": [
    {
     "name": "stdout",
     "output_type": "stream",
     "text": [
      "Aminah\n",
      "Hafiz\n",
      "Zahra\n",
      "Ali\n",
      "Fatimah\n",
      "Khalid\n",
      "Nadira\n",
      "Imran\n",
      "Sara\n",
      "Yusuf\n",
      "{'001': {'name': 'Aminah', 'age': 20, 'score': 92, 'status': 'Excellent'}, '002': {'name': 'Hafiz', 'age': 21, 'score': 85, 'status': 'Very Good'}, '003': {'name': 'Zahra', 'age': 22, 'score': 95, 'status': 'Excellent'}, '004': {'name': 'Ali', 'age': 19, 'score': 74, 'status': 'In Observation'}, '005': {'name': 'Fatimah', 'age': 20, 'score': 88, 'status': 'Very Good'}, '006': {'name': 'Khalid', 'age': 21, 'score': 90, 'status': 'Very Good'}, '007': {'name': 'Nadira', 'age': 22, 'score': 82, 'status': 'Very Good'}, '008': {'name': 'Imran', 'age': 19, 'score': 70, 'status': 'In Observation'}, '009': {'name': 'Sara', 'age': 20, 'score': 94, 'status': 'Excellent'}, '010': {'name': 'Yusuf', 'age': 21, 'score': 87, 'status': 'Very Good'}}\n"
     ]
    }
   ],
   "source": [
    "students = {\n",
    "    \"001\": {\"name\": \"Aminah\", \"age\": 20, \"score\": 92},\n",
    "    \"002\": {\"name\": \"Hafiz\", \"age\": 21, \"score\": 85},\n",
    "    \"003\": {\"name\": \"Zahra\", \"age\": 22, \"score\": 95},\n",
    "    \"004\": {\"name\": \"Ali\", \"age\": 19, \"score\": 74},\n",
    "    \"005\": {\"name\": \"Fatimah\", \"age\": 20, \"score\": 88},\n",
    "    \"006\": {\"name\": \"Khalid\", \"age\": 21, \"score\": 90},\n",
    "    \"007\": {\"name\": \"Nadira\", \"age\": 22, \"score\": 82},\n",
    "    \"008\": {\"name\": \"Imran\", \"age\": 19, \"score\": 70},\n",
    "    \"009\": {\"name\": \"Sara\", \"age\": 20, \"score\": 94},\n",
    "    \"010\": {\"name\": \"Yusuf\", \"age\": 21, \"score\": 87}\n",
    "}\n",
    "\n",
    "# Syntax For Loop in Dictionary = for key, value in students.items():\n",
    "# Instead if doing = print(name), you shoud do print (value[\"name\"]) -- because we want the value of the dictionary\n",
    "\n",
    "for key, value in students.items():\n",
    "    print(value[\"name\"])\n",
    "\n",
    "    if value['score'] > 90:\n",
    "        value['status'] = \"Excellent\"\n",
    "    elif value['score'] > 80:\n",
    "        value['status'] = \"Very Good\"\n",
    "    else :\n",
    "        value['status'] = \"In Observation\"\n",
    "\n",
    "print(students)\n"
   ]
  },
  {
   "cell_type": "code",
   "execution_count": null,
   "metadata": {},
   "outputs": [],
   "source": []
  }
 ],
 "metadata": {
  "kernelspec": {
   "display_name": "Python 3",
   "language": "python",
   "name": "python3"
  },
  "language_info": {
   "codemirror_mode": {
    "name": "ipython",
    "version": 3
   },
   "file_extension": ".py",
   "mimetype": "text/x-python",
   "name": "python",
   "nbconvert_exporter": "python",
   "pygments_lexer": "ipython3",
   "version": "3.10.13"
  }
 },
 "nbformat": 4,
 "nbformat_minor": 2
}
