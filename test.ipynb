{
 "cells": [
  {
   "cell_type": "code",
   "execution_count": 1,
   "metadata": {},
   "outputs": [
    {
     "name": "stdout",
     "output_type": "stream",
     "text": [
      "hello\n"
     ]
    }
   ],
   "source": [
    "print(\"hello\")"
   ]
  },
  {
   "cell_type": "code",
   "execution_count": 1,
   "metadata": {},
   "outputs": [
    {
     "name": "stdout",
     "output_type": "stream",
     "text": [
      "world\n"
     ]
    }
   ],
   "source": [
    "print(\"world\")\n"
   ]
  },
  {
   "cell_type": "code",
   "execution_count": 1,
   "metadata": {},
   "outputs": [
    {
     "name": "stdout",
     "output_type": "stream",
     "text": [
      "I update something\n"
     ]
    }
   ],
   "source": [
    "print(\"I update something\")"
   ]
  },
  {
   "cell_type": "code",
   "execution_count": 1,
   "metadata": {},
   "outputs": [
    {
     "name": "stdout",
     "output_type": "stream",
     "text": [
      "{'Rahman': {'CGPA': 3.5, 'Course': ['IT', 'Math', 'Physics'], 'Height': 1.75}, 'Azwan': {'CGPA': 3.7, 'Course': ['IT', 'Math', 'Physics'], 'Height': 1.75}, 'Kamarul': {'CGPA': 3.9, 'Course': ['IT', 'Math', 'Physics'], 'Height': 1.75}}\n"
     ]
    }
   ],
   "source": [
    "student_cgpa = {\n",
    "    \"Rahman\": {\n",
    "        \"CGPA\": 3.5,\n",
    "        \"Course\": [\"IT\", \"Math\", \"Physics\"]\n",
    "    },\n",
    "    \"Azwan\": {\n",
    "        \"CGPA\": 3.7,\n",
    "        \"Course\": [\"IT\", \"Math\", \"Physics\"]\n",
    "    },\n",
    "    \"Kamarul\": {\n",
    "        \"CGPA\": 3.9,\n",
    "        \"Course\": [\"IT\", \"Math\", \"Physics\"]\n",
    "    }\n",
    "}\n",
    "for key, value in student_cgpa.items():\n",
    "    value['Height'] = 1.75   #Contoh berat everyone sama 1.75kg\n",
    "\n",
    "\n",
    "print(student_cgpa)\n",
    "\n",
    "# for key in student_cgpa:\n",
    "#     print(student_cgpa[key])\n"
   ]
  },
  {
   "cell_type": "code",
   "execution_count": 5,
   "metadata": {},
   "outputs": [
    {
     "ename": "TypeError",
     "evalue": "list indices must be integers or slices, not str",
     "output_type": "error",
     "traceback": [
      "\u001b[0;31m---------------------------------------------------------------------------\u001b[0m",
      "\u001b[0;31mTypeError\u001b[0m                                 Traceback (most recent call last)",
      "Cell \u001b[0;32mIn[5], line 44\u001b[0m\n\u001b[1;32m     41\u001b[0m         Total_Credit \u001b[38;5;241m+\u001b[39m\u001b[38;5;241m=\u001b[39m value[\u001b[38;5;124m'\u001b[39m\u001b[38;5;124mcredits\u001b[39m\u001b[38;5;124m'\u001b[39m]\n\u001b[1;32m     43\u001b[0m student[\u001b[38;5;124m'\u001b[39m\u001b[38;5;124mTotal Credit\u001b[39m\u001b[38;5;124m'\u001b[39m] \u001b[38;5;241m=\u001b[39m Total_Credit\n\u001b[0;32m---> 44\u001b[0m \u001b[43mstudents\u001b[49m\u001b[43m[\u001b[49m\u001b[38;5;124;43m'\u001b[39;49m\u001b[38;5;124;43mextracurricular_activities\u001b[39;49m\u001b[38;5;124;43m'\u001b[39;49m\u001b[43m]\u001b[49m\u001b[38;5;241m.\u001b[39mappend(\u001b[38;5;124m\"\u001b[39m\u001b[38;5;124mCricket\u001b[39m\u001b[38;5;124m\"\u001b[39m)\n\u001b[1;32m     45\u001b[0m \u001b[38;5;28mprint\u001b[39m(students)\n",
      "\u001b[0;31mTypeError\u001b[0m: list indices must be integers or slices, not str"
     ]
    }
   ],
   "source": [
    "students = [\n",
    "    {\n",
    "        \"name\": \"Ahmad Faizal\",\n",
    "        \"age\": 21,\n",
    "        \"courses\": {\n",
    "            \"Mathematics\": {\"grade\": \"A\", \"credits\": 3},\n",
    "            \"Physics\": {\"grade\": \"B\", \"credits\": 4},\n",
    "            \"History\": {\"grade\": \"A-\", \"credits\": 2}\n",
    "        },\n",
    "        \"extracurricular_activities\": [\"Debate Club\", \"Soccer\"]\n",
    "    },\n",
    "    {\n",
    "        \"name\": \"Nur Aisyah\",\n",
    "        \"age\": 22,\n",
    "        \"courses\": {\n",
    "            \"Mathematics\": {\"grade\": \"B+\", \"credits\": 3},\n",
    "            \"Chemistry\": {\"grade\": \"A\", \"credits\": 4},\n",
    "            \"Literature\": {\"grade\": \"A-\", \"credits\": 2}\n",
    "        },\n",
    "        \"extracurricular_activities\": [\"Drama Club\", \"Volunteering\"]\n",
    "    },\n",
    "    {\n",
    "        \"name\": \"Mohan Raj\",\n",
    "        \"age\": 20,\n",
    "        \"courses\": {\n",
    "            \"Biology\": {\"grade\": \"B\", \"credits\": 4},\n",
    "            \"Physics\": {\"grade\": \"A-\", \"credits\": 4},\n",
    "            \"Mathematics\": {\"grade\": \"A\", \"credits\": 3}\n",
    "        },\n",
    "        \"extracurricular_activities\": [\"Chess Club\", \"Basketball\"]\n",
    "    }\n",
    "]\n",
    "\n",
    "# for student in students:\n",
    "   # print(student['name'])\n",
    "\n",
    "for student in students:\n",
    "    Total_Credit = 0\n",
    "    for key,value in student[\"courses\"].items():\n",
    "        Total_Credit += value['credits']\n",
    "\n",
    "students['Total Credit'] = Total_Credit\n",
    "students['extracurricular_activities'].append(\"Cricket\")\n",
    "print(students)\n"
   ]
  },
  {
   "cell_type": "code",
   "execution_count": 1,
   "metadata": {},
   "outputs": [
    {
     "name": "stdout",
     "output_type": "stream",
     "text": [
      "{'postUrl': 'https://www.instagram.com/p/L87rB/', 'description': 'There is no description', 'likeCount': 1226, 'commentCount': 516, 'postId': 200522433, 'pubDate': 'TIME:19:22:34 DATE:02-09-2011', 'TimeDay': 'after office hour'}\n"
     ]
    }
   ],
   "source": [
    "\"\"\"Exercise (6): Classify Time Based on Datetime\n",
    "Objective:\n",
    "    1. Get the Instagram posts from the given URL\n",
    "    2. Classify the posts based on the time of the day\n",
    "    3. Format the datetime from TIME:11:14:02 DATE:10-04-2024 to 11:14:02 10-04-2024\n",
    "    4. update pubDate with the formatted datetime\n",
    "    5. Classify the time of the day based on the following conditions:\n",
    "\n",
    "        - morning: 06:00 - before 12:00\n",
    "        - lunch_hour - 12:00 - before 14:00\n",
    "        - after_lunch_hour - 14:00 - before 18:00\n",
    "        - after_office_hour - 18:00 - before 20:00\n",
    "        - night - 20:00 - before 22:00\n",
    "        - midnight - 22:00 - before 06:00\n",
    "\n",
    "    6. Add new key 'time_of_day' to the dictionary with the time of the day\n",
    "\"\"\"\n",
    "\n",
    "import requests\n",
    "from datetime import datetime\n",
    "\n",
    "# Get the Instagram posts from the given URL\n",
    "def get_instagram_posts():\n",
    "    url = \"https://raw.githubusercontent.com/nextynewb/datasets/main/ka.json\"\n",
    "    response = requests.get(url)\n",
    "    response.raise_for_status()\n",
    "    instagram_data = response.json()\n",
    "    return instagram_data\n",
    "\n",
    "posts = get_instagram_posts()\n",
    "\n",
    "# Convert string \"TIME:06:15:55 DATE:08-04-2024\" to Date format\n",
    "for post in posts:\n",
    "    date_of_posting = post['pubDate']\n",
    "    date_new_format = datetime.strptime (date_of_posting,\"TIME:%H:%M:%S DATE:%d-%m-%Y\")\n",
    "\n",
    "# Extract Hour, in order to do classification\n",
    "hour = date_new_format.hour\n",
    "\n",
    "if hour >= 6 and hour < 12:\n",
    "    time_of_day = \"morning\"\n",
    "elif hour >= 12 and hour < 14:\n",
    "    time_of_day = \"lunch hour\"\n",
    "elif hour >= 14 and hour < 18:\n",
    "    time_of_day = \"after lunch hour\"\n",
    "elif hour >= 18 and hour < 20:\n",
    "    time_of_day = \"after office hour\"\n",
    "elif hour >= 20 and hour < 22:\n",
    "    time_of_day = \"night\"\n",
    "else:\n",
    "    time_of_day = \"midnight\"\n",
    "\n",
    "post['TimeDay'] = time_of_day\n",
    "print(post)\n",
    "    \n",
    "\n",
    "\n",
    "  \n",
    "\n",
    "\n"
   ]
  },
  {
   "cell_type": "code",
   "execution_count": null,
   "metadata": {},
   "outputs": [],
   "source": [
    "import requests\n",
    "\"\"\"Exercise (7): Retrieve News Data from The Edge Malaysia API\n",
    "\n",
    "1. Each API call returns 10 news articles.\n",
    "2. The API accepts a parameter named 'offset' to indicate the starting index for fetching the news data.\n",
    "3. For example, if offset = 0, the API fetches news from index 0 to 10.\n",
    "   If offset = 10, it fetches news from index 10 to 20, and so forth.\n",
    "\n",
    "Task:\n",
    "1. Initialize an empty list to store all the news articles.\n",
    "2. Make 10 API calls in a loop to retrieve all the news data.\n",
    "3. Store the retrieved news articles in the list.\n",
    "\n",
    "\"\"\"\n",
    "\n",
    "def get_news_data(offset):  #offset is like 'from' \n",
    "    offset = offset * 10\n",
    "    url = f\"https://theedgemalaysia.com/api/loadMoreCategories\"\n",
    "    parameters = {\n",
    "        'offset': offset, # This is the starting index for fetching the news data\n",
    "        'categories': 'malaysia'\n",
    "    }\n",
    "    response = requests.get(url, params=parameters)\n",
    "    data = response.json()\n",
    "    results = data['results']\n",
    "    return results"
   ]
  }
 ],
 "metadata": {
  "kernelspec": {
   "display_name": "Python 3",
   "language": "python",
   "name": "python3"
  },
  "language_info": {
   "codemirror_mode": {
    "name": "ipython",
    "version": 3
   },
   "file_extension": ".py",
   "mimetype": "text/x-python",
   "name": "python",
   "nbconvert_exporter": "python",
   "pygments_lexer": "ipython3",
   "version": "3.10.13"
  }
 },
 "nbformat": 4,
 "nbformat_minor": 2
}
